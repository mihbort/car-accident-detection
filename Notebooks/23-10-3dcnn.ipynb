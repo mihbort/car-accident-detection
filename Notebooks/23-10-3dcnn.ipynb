{
 "cells": [
  {
   "cell_type": "code",
   "execution_count": 1,
   "metadata": {},
   "outputs": [],
   "source": [
    "import sys\n"
   ]
  },
  {
   "cell_type": "code",
   "execution_count": 2,
   "metadata": {},
   "outputs": [
    {
     "name": "stderr",
     "output_type": "stream",
     "text": [
      "Using TensorFlow backend.\n"
     ]
    }
   ],
   "source": [
    "from keras.preprocessing.image import ImageDataGenerator\n",
    "from keras.models import Sequential\n",
    "from keras.layers.core import Dense, Dropout, Activation, Flatten\n",
    "from keras.layers.convolutional import Convolution3D, MaxPooling3D"
   ]
  },
  {
   "cell_type": "code",
   "execution_count": 3,
   "metadata": {},
   "outputs": [],
   "source": [
    "from keras.optimizers import SGD, RMSprop\n",
    "from keras.utils import np_utils, generic_utils"
   ]
  },
  {
   "cell_type": "code",
   "execution_count": 4,
   "metadata": {},
   "outputs": [
    {
     "name": "stderr",
     "output_type": "stream",
     "text": [
      "/home/misha/tensorflow/lib/python3.5/site-packages/skvideo/__init__.py:356: UserWarning: avconv/avprobe not found in path: \n",
      "  warnings.warn(\"avconv/avprobe not found in path: \" + str(path), UserWarning)\n",
      "/home/misha/tensorflow/lib/python3.5/site-packages/sklearn/cross_validation.py:41: DeprecationWarning: This module was deprecated in version 0.18 in favor of the model_selection module into which all the refactored classes and functions are moved. Also note that the interface of the new CV iterators are different from that of this module. This module will be removed in 0.20.\n",
      "  \"This module will be removed in 0.20.\", DeprecationWarning)\n"
     ]
    }
   ],
   "source": [
    "import tensorflow as tf\n",
    "import os\n",
    "import matplotlib\n",
    "import matplotlib.pyplot as plt\n",
    "import numpy as np\n",
    "import cv2\n",
    "import skvideo.io\n",
    "from sklearn.cross_validation import train_test_split\n",
    "from sklearn import cross_validation\n",
    "from sklearn import preprocessing"
   ]
  },
  {
   "cell_type": "code",
   "execution_count": 5,
   "metadata": {},
   "outputs": [
    {
     "name": "stdout",
     "output_type": "stream",
     "text": [
      "b'Hello, TensorFlow!'\n"
     ]
    }
   ],
   "source": [
    "hello = tf.constant('Hello, TensorFlow!')\n",
    "sess = tf.Session()\n",
    "print(sess.run(hello))"
   ]
  },
  {
   "cell_type": "markdown",
   "metadata": {},
   "source": [
    "### Image specification"
   ]
  },
  {
   "cell_type": "code",
   "execution_count": 6,
   "metadata": {},
   "outputs": [],
   "source": [
    "img_rows,img_cols,img_depth=120,160,15"
   ]
  },
  {
   "cell_type": "markdown",
   "metadata": {},
   "source": [
    "### Training data"
   ]
  },
  {
   "cell_type": "code",
   "execution_count": 7,
   "metadata": {},
   "outputs": [],
   "source": [
    "X_tr = [] # variable to store entire dataset"
   ]
  },
  {
   "cell_type": "code",
   "execution_count": null,
   "metadata": {},
   "outputs": [],
   "source": []
  },
  {
   "cell_type": "code",
   "execution_count": 8,
   "metadata": {},
   "outputs": [
    {
     "name": "stdout",
     "output_type": "stream",
     "text": [
      "515\n"
     ]
    }
   ],
   "source": [
    "filename = '/home/misha/Documents/Thesis/Dataset/BNG_white_1'\n",
    "videodata = skvideo.io.vreader(filename + '.mov')\n",
    "frames = open(filename + '.csv', 'r')\n",
    "\n",
    "my_frame = 0\n",
    "frame_number = 0\n",
    "\n",
    "for frame in videodata:\n",
    "    \n",
    "    if (frame_number >= 369 and frame_number < 766) or (frame_number >= 3492 and frame_number < 3610):\n",
    "        \n",
    "        frame = cv2.cvtColor(frame, cv2.COLOR_BGR2GRAY)\n",
    "        res_img = cv2.resize(frame, (img_cols, img_rows), interpolation=cv2.INTER_AREA)\n",
    "        X_tr.append(res_img)\n",
    "#         print(frame_number)\n",
    "    frame_number += 1\n",
    "print(len(X_tr))\n"
   ]
  },
  {
   "cell_type": "code",
   "execution_count": 9,
   "metadata": {},
   "outputs": [
    {
     "name": "stdout",
     "output_type": "stream",
     "text": [
      "681\n"
     ]
    }
   ],
   "source": [
    "filename = '/home/misha/Documents/Thesis/Dataset/race_night'\n",
    "videodata = skvideo.io.vreader(filename + '.mov')\n",
    "frames = open(filename + '.csv', 'r')\n",
    "\n",
    "my_frame = 0\n",
    "frame_number = 0\n",
    "\n",
    "for frame in videodata:\n",
    "    if (frame_number >= 663 and frame_number < 758) or (frame_number >= 967 and frame_number < 1038):\n",
    "        \n",
    "        frame = cv2.cvtColor(frame, cv2.COLOR_BGR2GRAY)\n",
    "        res_img = cv2.resize(frame, (img_cols, img_rows), interpolation=cv2.INTER_AREA)\n",
    "        X_tr.append(res_img)\n",
    "#         print(frame_number)\n",
    "    frame_number += 1\n",
    "print(len(X_tr))\n"
   ]
  },
  {
   "cell_type": "code",
   "execution_count": null,
   "metadata": {},
   "outputs": [],
   "source": [
    "len(X_tr)"
   ]
  },
  {
   "cell_type": "markdown",
   "metadata": {},
   "source": [
    "### Open files"
   ]
  },
  {
   "cell_type": "code",
   "execution_count": null,
   "metadata": {},
   "outputs": [],
   "source": [
    "def addFrames(dest_arr, fname, start, end):\n",
    "    for i in range(start, end + 1):\n",
    "        "
   ]
  },
  {
   "cell_type": "code",
   "execution_count": 10,
   "metadata": {},
   "outputs": [
    {
     "name": "stdout",
     "output_type": "stream",
     "text": [
      "[[563, 958, 0], [967, 1038, 1], [1523, 1718, 0], [3770, 4050, 1], [4705, 4813, 1], [4915, 5140, 0]]\n",
      "752\n"
     ]
    }
   ],
   "source": [
    "filename = '/home/misha/Documents/Thesis/Dataset/race_night'\n",
    "videodata = skvideo.io.vreader(filename + '.mov')\n",
    "frames = open(filename + '.csv', 'r')\n",
    "marking_data = []\n",
    "\n",
    "\n",
    "\n",
    "for line in frames:\n",
    "    line = line.split(',')\n",
    "    marking_data.append([int(line[0]),int(line[1]),int(line[2])])\n",
    "\n",
    "print(marking_data)\n",
    "    \n",
    "for line in marking_data:\n",
    "    if line[2] == 1:\n",
    "        current_frame = 0\n",
    "        for frame in videodata:\n",
    "            if (current_frame >= line[0] and current_frame < line[1]):\n",
    "                \n",
    "                frame = cv2.cvtColor(frame, cv2.COLOR_BGR2GRAY)\n",
    "                res_img = cv2.resize(frame, (img_cols, img_rows), interpolation=cv2.INTER_AREA)\n",
    "                X_tr.append(res_img)\n",
    "    #         print(frame_number)\n",
    "            current_frame += 1\n",
    "print(len(X_tr))"
   ]
  },
  {
   "cell_type": "code",
   "execution_count": null,
   "metadata": {},
   "outputs": [],
   "source": [
    "filename = '/home/misha/Documents/Thesis/Dataset/BNG_white_1'\n",
    "videodata = skvideo.io.vreader(filename + '.mov')\n",
    "frames = open(filename + '.csv', 'r')\n",
    "\n",
    "my_frame = 0\n",
    "frame_number = 0\n",
    "\n",
    "for frame in videodata:\n",
    "    if (frame_number >= 10 and frame_number < 1010):\n",
    "        \n",
    "        frame = cv2.cvtColor(frame, cv2.COLOR_BGR2GRAY)\n",
    "        res_img = cv2.resize(frame, (img_cols, img_rows), interpolation=cv2.INTER_AREA)\n",
    "        X_tr.append(res_img)\n",
    "#         print(frame_number)\n",
    "    frame_number += 1\n",
    "print(len(X_tr))\n",
    "\n",
    "\n",
    "\n",
    "# load class 1\n",
    "filename = '/home/misha/Documents/Thesis/Dataset/race_night'\n",
    "videodata = skvideo.io.vreader(filename + '.mov')\n",
    "frames = open(filename + '.csv', 'r')\n",
    "\n",
    "my_frame = 0\n",
    "frame_number = 0\n",
    "\n",
    "for frame in videodata:\n",
    "    if (frame_number >= 10 and frame_number < 1010):\n",
    "        \n",
    "        frame = cv2.cvtColor(frame, cv2.COLOR_BGR2GRAY)\n",
    "        res_img = cv2.resize(frame, (img_cols, img_rows), interpolation=cv2.INTER_AREA)\n",
    "        X_tr.append(res_img)\n",
    "#         print(frame_number)\n",
    "    frame_number += 1\n",
    "print(len(X_tr))"
   ]
  },
  {
   "cell_type": "code",
   "execution_count": null,
   "metadata": {},
   "outputs": [],
   "source": [
    "def addFrames(frames_list, start, end):\n",
    "    for x in range(start, end + 1):\n",
    "        cap.set(1, x)\n",
    "        ret, frame = cap.read()\n",
    "        frame = cv2.cvtColor(frame, cv2.COLOR_BGR2GRAY)\n",
    "        res_img = cv2.resize(frame, (img_rows, img_cols), interpolation=cv2.INTER_AREA) # size reducing\n",
    "        frames_list.append(res_img)\n",
    "    "
   ]
  },
  {
   "cell_type": "markdown",
   "metadata": {},
   "source": [
    "### Reading accident class training"
   ]
  },
  {
   "cell_type": "code",
   "execution_count": 11,
   "metadata": {},
   "outputs": [
    {
     "data": {
      "image/png": "[encoded data removed]",
      "text/plain": [
       "<matplotlib.figure.Figure at 0x7f28cc93cfd0>"
      ]
     },
     "metadata": {},
     "output_type": "display_data"
    }
   ],
   "source": [
    "# frames numbers hardcoded just for debug. Normally they are in .csv file.\n",
    "# addFrames(X_tr, 3248, 3283)\n",
    "# addFrames(X_tr, 3492, 3527)\n",
    "\n",
    "plt.imshow(X_tr[-1],cmap='gray')\n",
    "plt.show()\n"
   ]
  },
  {
   "cell_type": "code",
   "execution_count": null,
   "metadata": {},
   "outputs": [],
   "source": [
    "# frames = open(filename + '.csv', 'r')\n",
    "# ret, frame = cap.read()\n",
    "# frame = cv2.cvtColor(frame, cv2.COLOR_BGR2GRAY)\n",
    "img = cv2.cvtColor(frame, cv2.COLOR_BGR2GRAY )\n",
    "plt.imshow(img, cmap='gray')\n",
    "plt.show()\n",
    "print(img)"
   ]
  },
  {
   "cell_type": "markdown",
   "metadata": {
    "collapsed": true
   },
   "source": [
    "##### Image resize"
   ]
  },
  {
   "cell_type": "code",
   "execution_count": null,
   "metadata": {},
   "outputs": [],
   "source": [
    "# now resize in reading dunction\n",
    "plt.imshow(X_tr[630], cmap='gray')\n",
    "plt.show()"
   ]
  },
  {
   "cell_type": "markdown",
   "metadata": {},
   "source": [
    "### Reading all frames classes (takes long time)"
   ]
  },
  {
   "cell_type": "code",
   "execution_count": null,
   "metadata": {},
   "outputs": [],
   "source": [
    "# X_tr_array.shape"
   ]
  },
  {
   "cell_type": "markdown",
   "metadata": {},
   "source": [
    "### CNN Training parameters"
   ]
  },
  {
   "cell_type": "code",
   "execution_count": 12,
   "metadata": {},
   "outputs": [],
   "source": [
    "# Importaint step\n",
    "X_tr_array = np.array(X_tr)\n",
    "# print(X_tr_array)"
   ]
  },
  {
   "cell_type": "code",
   "execution_count": null,
   "metadata": {},
   "outputs": [],
   "source": [
    "norm_ipt = np.rollaxis(np.rollaxis(norm_input,2,0),2,0)\n",
    "print(norm_ipt.shape)\n",
    "acc_ipt = np.rollaxis(np.rollaxis(acc_input,2,0),2,0)\n",
    "print(acc_ipt.shape)\n",
    "\n"
   ]
  },
  {
   "cell_type": "code",
   "execution_count": null,
   "metadata": {},
   "outputs": [],
   "source": [
    "# convert to array\n",
    "X_tr_norm = np.array(norm_ipt)\n",
    "X_tr_acc = np.array(acc_ipt)\n",
    "\n",
    "num_samples_norm = len(X_tr_norm)\n",
    "num_samples_acc = len(X_tr_acc)\n",
    "print(num_samples_norm)\n",
    "print(num_samples_acc)"
   ]
  },
  {
   "cell_type": "code",
   "execution_count": null,
   "metadata": {},
   "outputs": [],
   "source": [
    "print(X_tr_array.shape)"
   ]
  },
  {
   "cell_type": "code",
   "execution_count": 13,
   "metadata": {},
   "outputs": [
    {
     "name": "stdout",
     "output_type": "stream",
     "text": [
      "(752, 120, 160, 1)\n"
     ]
    },
    {
     "name": "stderr",
     "output_type": "stream",
     "text": [
      "/usr/local/lib/python3.5/dist-packages/ipykernel_launcher.py:2: DeprecationWarning: Both axis > a.ndim and axis < -a.ndim - 1 are deprecated and will raise an AxisError in the future.\n",
      "  \n"
     ]
    }
   ],
   "source": [
    "\n",
    "X_tr_array = np.expand_dims(X_tr_array, axis=4)\n",
    "print(X_tr_array.shape)"
   ]
  },
  {
   "cell_type": "markdown",
   "metadata": {},
   "source": [
    "##### Assign label to each class"
   ]
  },
  {
   "cell_type": "code",
   "execution_count": 14,
   "metadata": {},
   "outputs": [
    {
     "name": "stdout",
     "output_type": "stream",
     "text": [
      "X_Train shape: (752, 120, 160, 1)\n"
     ]
    }
   ],
   "source": [
    "num_samples = len(X_tr_array)\n",
    "# train_set = np.zeros(num_samples, 1, img_rows,img_cols,img_depth))\n",
    "label = np.ones((num_samples,),dtype = int)\n",
    "label[0:1000] = 0\n",
    "label[1000:] = 1\n",
    "\n",
    "train_data = [X_tr_array,label]\n",
    "\n",
    "(X_train, y_train) = (train_data[0],train_data[1])\n",
    "print('X_Train shape:', X_train.shape)"
   ]
  },
  {
   "cell_type": "code",
   "execution_count": 15,
   "metadata": {},
   "outputs": [
    {
     "ename": "ValueError",
     "evalue": "could not broadcast input array from shape (120,160,1) into shape (160,15)",
     "output_type": "error",
     "traceback": [
      "\u001b[0;31m---------------------------------------------------------------------------\u001b[0m",
      "\u001b[0;31mValueError\u001b[0m                                Traceback (most recent call last)",
      "\u001b[0;32m<ipython-input-15-ce0df30a9a69>\u001b[0m in \u001b[0;36m<module>\u001b[0;34m()\u001b[0m\n\u001b[1;32m      3\u001b[0m \u001b[0;34m\u001b[0m\u001b[0m\n\u001b[1;32m      4\u001b[0m \u001b[0;32mfor\u001b[0m \u001b[0mh\u001b[0m \u001b[0;32min\u001b[0m \u001b[0mrange\u001b[0m\u001b[0;34m(\u001b[0m\u001b[0mnum_samples\u001b[0m\u001b[0;34m)\u001b[0m\u001b[0;34m:\u001b[0m\u001b[0;34m\u001b[0m\u001b[0m\n\u001b[0;32m----> 5\u001b[0;31m     \u001b[0mtrain_set\u001b[0m\u001b[0;34m[\u001b[0m\u001b[0mh\u001b[0m\u001b[0;34m]\u001b[0m\u001b[0;34m[\u001b[0m\u001b[0;36m0\u001b[0m\u001b[0;34m]\u001b[0m\u001b[0;34m[\u001b[0m\u001b[0;34m:\u001b[0m\u001b[0;34m]\u001b[0m\u001b[0;34m[\u001b[0m\u001b[0;34m:\u001b[0m\u001b[0;34m]\u001b[0m\u001b[0;34m[\u001b[0m\u001b[0;34m:\u001b[0m\u001b[0;34m]\u001b[0m\u001b[0;34m=\u001b[0m\u001b[0mX_train\u001b[0m\u001b[0;34m[\u001b[0m\u001b[0mh\u001b[0m\u001b[0;34m,\u001b[0m\u001b[0;34m:\u001b[0m\u001b[0;34m,\u001b[0m\u001b[0;34m:\u001b[0m\u001b[0;34m,\u001b[0m\u001b[0;34m:\u001b[0m\u001b[0;34m]\u001b[0m\u001b[0;34m\u001b[0m\u001b[0m\n\u001b[0m",
      "\u001b[0;31mValueError\u001b[0m: could not broadcast input array from shape (120,160,1) into shape (160,15)"
     ]
    }
   ],
   "source": [
    "train_set = np.zeros((num_samples, img_rows,img_cols,img_depth))\n",
    "patch_size = 15\n",
    "\n",
    "for h in range(num_samples):\n",
    "    train_set[h][0][:][:][:]=X_train[h,:,:,:]\n"
   ]
  },
  {
   "cell_type": "code",
   "execution_count": 16,
   "metadata": {},
   "outputs": [
    {
     "name": "stdout",
     "output_type": "stream",
     "text": [
      "(752, 120, 160, 15) train samples\n"
     ]
    }
   ],
   "source": [
    "print(train_set.shape, 'train samples')"
   ]
  },
  {
   "cell_type": "markdown",
   "metadata": {},
   "source": [
    "##### CNN training parameters"
   ]
  },
  {
   "cell_type": "code",
   "execution_count": 32,
   "metadata": {},
   "outputs": [],
   "source": [
    "batch_size = 2\n",
    "nb_classes = 2 \n",
    "nb_epoch = 100\n"
   ]
  },
  {
   "cell_type": "markdown",
   "metadata": {},
   "source": [
    "##### convert class vectors to binary class matrices"
   ]
  },
  {
   "cell_type": "code",
   "execution_count": 19,
   "metadata": {},
   "outputs": [],
   "source": [
    "Y_train = np_utils.to_categorical(y_train, nb_classes)"
   ]
  },
  {
   "cell_type": "markdown",
   "metadata": {},
   "source": [
    "##### number of convolutional filters to use at each layer"
   ]
  },
  {
   "cell_type": "code",
   "execution_count": 20,
   "metadata": {},
   "outputs": [],
   "source": [
    "nb_filters = [32, 32]"
   ]
  },
  {
   "cell_type": "markdown",
   "metadata": {},
   "source": [
    "##### level of pooling to perform at each layer (POOL x POOL)"
   ]
  },
  {
   "cell_type": "code",
   "execution_count": 21,
   "metadata": {},
   "outputs": [],
   "source": [
    "nb_pool = [2, 2]"
   ]
  },
  {
   "cell_type": "markdown",
   "metadata": {},
   "source": [
    "##### Level of convolution to perform at each layer (CONV x CONV)"
   ]
  },
  {
   "cell_type": "code",
   "execution_count": 22,
   "metadata": {},
   "outputs": [],
   "source": [
    "nb_conv = [3,3]"
   ]
  },
  {
   "cell_type": "markdown",
   "metadata": {},
   "source": [
    "### Pre-processing"
   ]
  },
  {
   "cell_type": "code",
   "execution_count": 23,
   "metadata": {},
   "outputs": [
    {
     "name": "stderr",
     "output_type": "stream",
     "text": [
      "/usr/local/lib/python3.5/dist-packages/ipykernel_launcher.py:5: RuntimeWarning: invalid value encountered in true_divide\n",
      "  \"\"\"\n"
     ]
    }
   ],
   "source": [
    "train_set = train_set.astype('float32')\n",
    "\n",
    "train_set -= np.mean(train_set)\n",
    "\n",
    "train_set /=np.max(train_set)"
   ]
  },
  {
   "cell_type": "code",
   "execution_count": 24,
   "metadata": {},
   "outputs": [
    {
     "name": "stdout",
     "output_type": "stream",
     "text": [
      "120 160 15\n"
     ]
    }
   ],
   "source": [
    "print(img_rows, img_cols, img_depth)"
   ]
  },
  {
   "cell_type": "code",
   "execution_count": null,
   "metadata": {},
   "outputs": [],
   "source": []
  },
  {
   "cell_type": "markdown",
   "metadata": {},
   "source": [
    "### Define model"
   ]
  },
  {
   "cell_type": "code",
   "execution_count": 25,
   "metadata": {},
   "outputs": [
    {
     "name": "stderr",
     "output_type": "stream",
     "text": [
      "/usr/local/lib/python3.5/dist-packages/ipykernel_launcher.py:19: UserWarning: Update your `Dense` call to the Keras 2 API: `Dense(128, kernel_initializer=\"normal\", activation=\"relu\")`\n",
      "/usr/local/lib/python3.5/dist-packages/ipykernel_launcher.py:23: UserWarning: Update your `Dense` call to the Keras 2 API: `Dense(2, kernel_initializer=\"normal\")`\n"
     ]
    }
   ],
   "source": [
    "model = Sequential()\n",
    "model.add(Convolution3D(16, (4, 4, 3),\n",
    "input_shape=(120, 160, 15, 1), activation='relu'))\n",
    "\n",
    "model.add(MaxPooling3D(pool_size=(nb_pool[0], nb_pool[0], nb_pool[0])))\n",
    "\n",
    "model.add(Convolution3D(32, (3, 3, 3), activation='relu'))\n",
    "\n",
    "model.add(MaxPooling3D(pool_size=(2, 2, 2)))\n",
    "\n",
    "model.add(Convolution3D(64, (3, 3, 2), activation='relu'))\n",
    "\n",
    "model.add(MaxPooling3D(pool_size=(2, 2, 1)))\n",
    "\n",
    "model.add(Dropout(0.5))\n",
    "\n",
    "model.add(Flatten())\n",
    "\n",
    "model.add(Dense(128, init='normal', activation='relu'))\n",
    "\n",
    "# model.add(Dropout(0.5))\n",
    "\n",
    "model.add(Dense(nb_classes,init='normal'))\n",
    "\n",
    "model.add(Activation('softmax'))\n",
    "\n",
    "# model.optimizer.lr.assign(0.1)\n",
    "\n",
    "model.compile(loss='categorical_crossentropy', metrics=['accuracy'], optimizer='Adam')\n"
   ]
  },
  {
   "cell_type": "code",
   "execution_count": 26,
   "metadata": {},
   "outputs": [
    {
     "name": "stdout",
     "output_type": "stream",
     "text": [
      "_________________________________________________________________\n",
      "Layer (type)                 Output Shape              Param #   \n",
      "=================================================================\n",
      "conv3d_1 (Conv3D)            (None, 117, 157, 13, 16)  784       \n",
      "_________________________________________________________________\n",
      "max_pooling3d_1 (MaxPooling3 (None, 58, 78, 6, 16)     0         \n",
      "_________________________________________________________________\n",
      "conv3d_2 (Conv3D)            (None, 56, 76, 4, 32)     13856     \n",
      "_________________________________________________________________\n",
      "max_pooling3d_2 (MaxPooling3 (None, 28, 38, 2, 32)     0         \n",
      "_________________________________________________________________\n",
      "conv3d_3 (Conv3D)            (None, 26, 36, 1, 64)     36928     \n",
      "_________________________________________________________________\n",
      "max_pooling3d_3 (MaxPooling3 (None, 13, 18, 1, 64)     0         \n",
      "_________________________________________________________________\n",
      "dropout_1 (Dropout)          (None, 13, 18, 1, 64)     0         \n",
      "_________________________________________________________________\n",
      "flatten_1 (Flatten)          (None, 14976)             0         \n",
      "_________________________________________________________________\n",
      "dense_1 (Dense)              (None, 128)               1917056   \n",
      "_________________________________________________________________\n",
      "dense_2 (Dense)              (None, 2)                 258       \n",
      "_________________________________________________________________\n",
      "activation_1 (Activation)    (None, 2)                 0         \n",
      "=================================================================\n",
      "Total params: 1,968,882\n",
      "Trainable params: 1,968,882\n",
      "Non-trainable params: 0\n",
      "_________________________________________________________________\n"
     ]
    }
   ],
   "source": [
    "model.summary()"
   ]
  },
  {
   "cell_type": "code",
   "execution_count": null,
   "metadata": {},
   "outputs": [],
   "source": []
  },
  {
   "cell_type": "code",
   "execution_count": null,
   "metadata": {},
   "outputs": [],
   "source": []
  },
  {
   "cell_type": "code",
   "execution_count": null,
   "metadata": {},
   "outputs": [],
   "source": []
  },
  {
   "cell_type": "code",
   "execution_count": 27,
   "metadata": {},
   "outputs": [],
   "source": [
    "# Split the data\n",
    "X_train_new, X_val_new, y_train_new,y_val_new =  train_test_split(train_set, Y_train, test_size=0.2, random_state=4)"
   ]
  },
  {
   "cell_type": "code",
   "execution_count": 28,
   "metadata": {},
   "outputs": [
    {
     "name": "stdout",
     "output_type": "stream",
     "text": [
      "(601, 120, 160, 15, 1)\n",
      "(151, 120, 160, 15, 1)\n"
     ]
    }
   ],
   "source": [
    "X_train_new = np.expand_dims(X_train_new, axis=4)\n",
    "print(X_train_new.shape)\n",
    "\n",
    "X_val_new = np.expand_dims(X_val_new, axis=4)\n",
    "print(X_val_new.shape)"
   ]
  },
  {
   "cell_type": "markdown",
   "metadata": {},
   "source": [
    "#### Training"
   ]
  },
  {
   "cell_type": "code",
   "execution_count": 33,
   "metadata": {
    "scrolled": true
   },
   "outputs": [
    {
     "name": "stdout",
     "output_type": "stream",
     "text": [
      "Train on 601 samples, validate on 151 samples\n",
      "Epoch 1/100\n",
      "  4/601 [..............................] - ETA: 25s - loss: 0.0370 - acc: 1.0000"
     ]
    },
    {
     "name": "stderr",
     "output_type": "stream",
     "text": [
      "/home/misha/tensorflow/lib/python3.5/site-packages/keras/models.py:848: UserWarning: The `nb_epoch` argument in `fit` has been renamed `epochs`.\n",
      "  warnings.warn('The `nb_epoch` argument in `fit` '\n"
     ]
    },
    {
     "name": "stdout",
     "output_type": "stream",
     "text": [
      "601/601 [==============================] - 23s - loss: 0.0337 - acc: 1.0000 - val_loss: 0.0306 - val_acc: 1.0000\n",
      "Epoch 2/100\n",
      "601/601 [==============================] - 23s - loss: 0.0280 - acc: 1.0000 - val_loss: 0.0255 - val_acc: 1.0000\n",
      "Epoch 3/100\n",
      "601/601 [==============================] - 23s - loss: 0.0234 - acc: 1.0000 - val_loss: 0.0214 - val_acc: 1.0000\n",
      "Epoch 4/100\n",
      "601/601 [==============================] - 23s - loss: 0.0196 - acc: 1.0000 - val_loss: 0.0180 - val_acc: 1.0000\n",
      "Epoch 5/100\n",
      "601/601 [==============================] - 23s - loss: 0.0166 - acc: 1.0000 - val_loss: 0.0152 - val_acc: 1.0000\n",
      "Epoch 6/100\n",
      "601/601 [==============================] - 23s - loss: 0.0141 - acc: 1.0000 - val_loss: 0.0129 - val_acc: 1.0000\n",
      "Epoch 7/100\n",
      "601/601 [==============================] - 23s - loss: 0.0120 - acc: 1.0000 - val_loss: 0.0110 - val_acc: 1.0000\n",
      "Epoch 8/100\n",
      "601/601 [==============================] - 23s - loss: 0.0102 - acc: 1.0000 - val_loss: 0.0094 - val_acc: 1.0000\n",
      "Epoch 9/100\n",
      "601/601 [==============================] - 23s - loss: 0.0087 - acc: 1.0000 - val_loss: 0.0081 - val_acc: 1.0000\n",
      "Epoch 10/100\n",
      "601/601 [==============================] - 23s - loss: 0.0075 - acc: 1.0000 - val_loss: 0.0069 - val_acc: 1.0000\n",
      "Epoch 11/100\n",
      "601/601 [==============================] - 23s - loss: 0.0064 - acc: 1.0000 - val_loss: 0.0059 - val_acc: 1.0000\n",
      "Epoch 12/100\n",
      "601/601 [==============================] - 23s - loss: 0.0055 - acc: 1.0000 - val_loss: 0.0051 - val_acc: 1.0000\n",
      "Epoch 13/100\n",
      "601/601 [==============================] - 23s - loss: 0.0047 - acc: 1.0000 - val_loss: 0.0044 - val_acc: 1.0000\n",
      "Epoch 14/100\n",
      "601/601 [==============================] - 23s - loss: 0.0041 - acc: 1.0000 - val_loss: 0.0038 - val_acc: 1.0000\n",
      "Epoch 15/100\n",
      "601/601 [==============================] - 23s - loss: 0.0035 - acc: 1.0000 - val_loss: 0.0033 - val_acc: 1.0000\n",
      "Epoch 16/100\n",
      "601/601 [==============================] - 23s - loss: 0.0030 - acc: 1.0000 - val_loss: 0.0028 - val_acc: 1.0000\n",
      "Epoch 17/100\n",
      "601/601 [==============================] - 23s - loss: 0.0026 - acc: 1.0000 - val_loss: 0.0024 - val_acc: 1.0000\n",
      "Epoch 18/100\n",
      "601/601 [==============================] - 23s - loss: 0.0023 - acc: 1.0000 - val_loss: 0.0021 - val_acc: 1.0000\n",
      "Epoch 19/100\n",
      "601/601 [==============================] - 23s - loss: 0.0020 - acc: 1.0000 - val_loss: 0.0018 - val_acc: 1.0000\n",
      "Epoch 20/100\n",
      "601/601 [==============================] - 23s - loss: 0.0017 - acc: 1.0000 - val_loss: 0.0016 - val_acc: 1.0000\n",
      "Epoch 21/100\n",
      "601/601 [==============================] - 23s - loss: 0.0015 - acc: 1.0000 - val_loss: 0.0014 - val_acc: 1.0000\n",
      "Epoch 22/100\n",
      "601/601 [==============================] - 23s - loss: 0.0013 - acc: 1.0000 - val_loss: 0.0012 - val_acc: 1.0000\n",
      "Epoch 23/100\n",
      "601/601 [==============================] - 23s - loss: 0.0011 - acc: 1.0000 - val_loss: 0.0010 - val_acc: 1.0000\n",
      "Epoch 24/100\n",
      "601/601 [==============================] - 23s - loss: 9.5330e-04 - acc: 1.0000 - val_loss: 8.8618e-04 - val_acc: 1.0000\n",
      "Epoch 25/100\n",
      "601/601 [==============================] - 23s - loss: 8.2582e-04 - acc: 1.0000 - val_loss: 7.6776e-04 - val_acc: 1.0000\n",
      "Epoch 26/100\n",
      "601/601 [==============================] - 23s - loss: 7.1552e-04 - acc: 1.0000 - val_loss: 6.6523e-04 - val_acc: 1.0000\n",
      "Epoch 27/100\n",
      "601/601 [==============================] - 23s - loss: 6.2004e-04 - acc: 1.0000 - val_loss: 5.7654e-04 - val_acc: 1.0000\n",
      "Epoch 28/100\n",
      "601/601 [==============================] - 23s - loss: 5.3738e-04 - acc: 1.0000 - val_loss: 4.9967e-04 - val_acc: 1.0000\n",
      "Epoch 29/100\n",
      "601/601 [==============================] - 23s - loss: 4.6579e-04 - acc: 1.0000 - val_loss: 4.3312e-04 - val_acc: 1.0000\n",
      "Epoch 30/100\n",
      "601/601 [==============================] - 23s - loss: 4.0377e-04 - acc: 1.0000 - val_loss: 3.7552e-04 - val_acc: 1.0000\n",
      "Epoch 31/100\n",
      "601/601 [==============================] - 23s - loss: 3.5004e-04 - acc: 1.0000 - val_loss: 3.2549e-04 - val_acc: 1.0000\n",
      "Epoch 32/100\n",
      "601/601 [==============================] - 23s - loss: 3.0350e-04 - acc: 1.0000 - val_loss: 2.8227e-04 - val_acc: 1.0000\n",
      "Epoch 33/100\n",
      "601/601 [==============================] - 23s - loss: 2.6315e-04 - acc: 1.0000 - val_loss: 2.4471e-04 - val_acc: 1.0000\n",
      "Epoch 34/100\n",
      "601/601 [==============================] - 23s - loss: 2.2816e-04 - acc: 1.0000 - val_loss: 2.1216e-04 - val_acc: 1.0000\n",
      "Epoch 35/100\n",
      "601/601 [==============================] - 23s - loss: 1.9784e-04 - acc: 1.0000 - val_loss: 1.8402e-04 - val_acc: 1.0000\n",
      "Epoch 36/100\n",
      "601/601 [==============================] - 23s - loss: 1.7159e-04 - acc: 1.0000 - val_loss: 1.5963e-04 - val_acc: 1.0000\n",
      "Epoch 37/100\n",
      "601/601 [==============================] - 23s - loss: 1.4882e-04 - acc: 1.0000 - val_loss: 1.3841e-04 - val_acc: 1.0000\n",
      "Epoch 38/100\n",
      "601/601 [==============================] - 23s - loss: 1.2907e-04 - acc: 1.0000 - val_loss: 1.2005e-04 - val_acc: 1.0000\n",
      "Epoch 39/100\n",
      "601/601 [==============================] - 23s - loss: 1.1193e-04 - acc: 1.0000 - val_loss: 1.0413e-04 - val_acc: 1.0000\n",
      "Epoch 40/100\n",
      "601/601 [==============================] - 22s - loss: 9.7078e-05 - acc: 1.0000 - val_loss: 9.0305e-05 - val_acc: 1.0000\n",
      "Epoch 41/100\n",
      "601/601 [==============================] - 22s - loss: 8.4192e-05 - acc: 1.0000 - val_loss: 7.8324e-05 - val_acc: 1.0000\n",
      "Epoch 42/100\n",
      "601/601 [==============================] - 22s - loss: 7.3017e-05 - acc: 1.0000 - val_loss: 6.7952e-05 - val_acc: 1.0000\n",
      "Epoch 43/100\n",
      "601/601 [==============================] - 22s - loss: 6.3327e-05 - acc: 1.0000 - val_loss: 5.8891e-05 - val_acc: 1.0000\n",
      "Epoch 44/100\n",
      "601/601 [==============================] - 22s - loss: 5.4920e-05 - acc: 1.0000 - val_loss: 5.1082e-05 - val_acc: 1.0000\n",
      "Epoch 45/100\n",
      "601/601 [==============================] - 22s - loss: 4.7630e-05 - acc: 1.0000 - val_loss: 4.4287e-05 - val_acc: 1.0000\n",
      "Epoch 46/100\n",
      "601/601 [==============================] - 22s - loss: 4.1306e-05 - acc: 1.0000 - val_loss: 3.8386e-05 - val_acc: 1.0000\n",
      "Epoch 47/100\n",
      "601/601 [==============================] - 22s - loss: 3.5824e-05 - acc: 1.0000 - val_loss: 3.3320e-05 - val_acc: 1.0000\n",
      "Epoch 48/100\n",
      "601/601 [==============================] - 22s - loss: 3.1067e-05 - acc: 1.0000 - val_loss: 2.8909e-05 - val_acc: 1.0000\n",
      "Epoch 49/100\n",
      "601/601 [==============================] - 22s - loss: 2.6944e-05 - acc: 1.0000 - val_loss: 2.5034e-05 - val_acc: 1.0000\n",
      "Epoch 50/100\n",
      "601/601 [==============================] - 22s - loss: 2.3370e-05 - acc: 1.0000 - val_loss: 2.1696e-05 - val_acc: 1.0000\n",
      "Epoch 51/100\n",
      "601/601 [==============================] - 22s - loss: 2.0269e-05 - acc: 1.0000 - val_loss: 1.8835e-05 - val_acc: 1.0000\n",
      "Epoch 52/100\n",
      "601/601 [==============================] - 22s - loss: 1.7580e-05 - acc: 1.0000 - val_loss: 1.6332e-05 - val_acc: 1.0000\n",
      "Epoch 53/100\n",
      "601/601 [==============================] - 22s - loss: 1.5248e-05 - acc: 1.0000 - val_loss: 1.4186e-05 - val_acc: 1.0000\n",
      "Epoch 54/100\n",
      "601/601 [==============================] - 22s - loss: 1.3224e-05 - acc: 1.0000 - val_loss: 1.2279e-05 - val_acc: 1.0000\n",
      "Epoch 55/100\n",
      "601/601 [==============================] - 22s - loss: 1.1470e-05 - acc: 1.0000 - val_loss: 1.0669e-05 - val_acc: 1.0000\n",
      "Epoch 56/100\n",
      "601/601 [==============================] - 22s - loss: 9.9468e-06 - acc: 1.0000 - val_loss: 9.2388e-06 - val_acc: 1.0000\n",
      "Epoch 57/100\n",
      "601/601 [==============================] - 22s - loss: 8.6263e-06 - acc: 1.0000 - val_loss: 7.9871e-06 - val_acc: 1.0000\n",
      "Epoch 58/100\n",
      "601/601 [==============================] - 22s - loss: 7.4810e-06 - acc: 1.0000 - val_loss: 6.9142e-06 - val_acc: 1.0000\n",
      "Epoch 59/100\n",
      "601/601 [==============================] - 22s - loss: 6.4875e-06 - acc: 1.0000 - val_loss: 6.0201e-06 - val_acc: 1.0000\n",
      "Epoch 60/100\n",
      "601/601 [==============================] - 22s - loss: 5.6243e-06 - acc: 1.0000 - val_loss: 5.2452e-06 - val_acc: 1.0000\n",
      "Epoch 61/100\n",
      "601/601 [==============================] - 22s - loss: 4.8779e-06 - acc: 1.0000 - val_loss: 4.5300e-06 - val_acc: 1.0000\n",
      "Epoch 62/100\n",
      "601/601 [==============================] - 22s - loss: 4.2299e-06 - acc: 1.0000 - val_loss: 3.9339e-06 - val_acc: 1.0000\n",
      "Epoch 63/100\n"
     ]
    },
    {
     "name": "stdout",
     "output_type": "stream",
     "text": [
      "601/601 [==============================] - 22s - loss: 3.6692e-06 - acc: 1.0000 - val_loss: 3.3975e-06 - val_acc: 1.0000\n",
      "Epoch 64/100\n",
      "601/601 [==============================] - 22s - loss: 3.1778e-06 - acc: 1.0000 - val_loss: 2.9802e-06 - val_acc: 1.0000\n",
      "Epoch 65/100\n",
      "601/601 [==============================] - 22s - loss: 2.7578e-06 - acc: 1.0000 - val_loss: 2.5630e-06 - val_acc: 1.0000\n",
      "Epoch 66/100\n",
      "601/601 [==============================] - 22s - loss: 2.3895e-06 - acc: 1.0000 - val_loss: 2.2650e-06 - val_acc: 1.0000\n",
      "Epoch 67/100\n",
      "601/601 [==============================] - 22s - loss: 2.0684e-06 - acc: 1.0000 - val_loss: 1.9074e-06 - val_acc: 1.0000\n",
      "Epoch 68/100\n",
      "601/601 [==============================] - 22s - loss: 1.7935e-06 - acc: 1.0000 - val_loss: 1.6689e-06 - val_acc: 1.0000\n",
      "Epoch 69/100\n",
      "601/601 [==============================] - 22s - loss: 1.5553e-06 - acc: 1.0000 - val_loss: 1.4305e-06 - val_acc: 1.0000\n",
      "Epoch 70/100\n",
      "601/601 [==============================] - 22s - loss: 1.3509e-06 - acc: 1.0000 - val_loss: 1.2517e-06 - val_acc: 1.0000\n",
      "Epoch 71/100\n",
      "601/601 [==============================] - 22s - loss: 1.1615e-06 - acc: 1.0000 - val_loss: 1.0729e-06 - val_acc: 1.0000\n",
      "Epoch 72/100\n",
      "601/601 [==============================] - 22s - loss: 1.0100e-06 - acc: 1.0000 - val_loss: 9.5367e-07 - val_acc: 1.0000\n",
      "Epoch 73/100\n",
      "601/601 [==============================] - 22s - loss: 8.7493e-07 - acc: 1.0000 - val_loss: 8.3447e-07 - val_acc: 1.0000\n",
      "Epoch 74/100\n",
      "601/601 [==============================] - 22s - loss: 7.5453e-07 - acc: 1.0000 - val_loss: 7.1526e-07 - val_acc: 1.0000\n",
      "Epoch 75/100\n",
      "601/601 [==============================] - 22s - loss: 6.5357e-07 - acc: 1.0000 - val_loss: 5.9605e-07 - val_acc: 1.0000\n",
      "Epoch 76/100\n",
      "601/601 [==============================] - 22s - loss: 5.7631e-07 - acc: 1.0000 - val_loss: 5.3644e-07 - val_acc: 1.0000\n",
      "Epoch 77/100\n",
      "601/601 [==============================] - 22s - loss: 4.7981e-07 - acc: 1.0000 - val_loss: 4.7684e-07 - val_acc: 1.0000\n",
      "Epoch 78/100\n",
      "601/601 [==============================] - 22s - loss: 4.2665e-07 - acc: 1.0000 - val_loss: 3.5763e-07 - val_acc: 1.0000\n",
      "Epoch 79/100\n",
      "601/601 [==============================] - 22s - loss: 3.5763e-07 - acc: 1.0000 - val_loss: 3.5763e-07 - val_acc: 1.0000\n",
      "Epoch 80/100\n",
      "601/601 [==============================] - 22s - loss: 3.2916e-07 - acc: 1.0000 - val_loss: 2.9802e-07 - val_acc: 1.0000\n",
      "Epoch 81/100\n",
      "601/601 [==============================] - 22s - loss: 2.5012e-07 - acc: 1.0000 - val_loss: 2.3842e-07 - val_acc: 1.0000\n",
      "Epoch 82/100\n",
      "601/601 [==============================] - 22s - loss: 2.3842e-07 - acc: 1.0000 - val_loss: 2.3842e-07 - val_acc: 1.0000\n",
      "Epoch 83/100\n",
      "601/601 [==============================] - 22s - loss: 2.2146e-07 - acc: 1.0000 - val_loss: 1.7881e-07 - val_acc: 1.0000\n",
      "Epoch 84/100\n",
      "601/601 [==============================] - 22s - loss: 1.6741e-07 - acc: 1.0000 - val_loss: 1.1921e-07 - val_acc: 1.0000\n",
      "Epoch 85/100\n",
      "601/601 [==============================] - 22s - loss: 1.1921e-07 - acc: 1.0000 - val_loss: 1.1921e-07 - val_acc: 1.0000\n",
      "Epoch 86/100\n",
      "601/601 [==============================] - 22s - loss: 1.1921e-07 - acc: 1.0000 - val_loss: 1.1921e-07 - val_acc: 1.0000\n",
      "Epoch 87/100\n",
      "601/601 [==============================] - 22s - loss: 1.1921e-07 - acc: 1.0000 - val_loss: 1.1921e-07 - val_acc: 1.0000\n",
      "Epoch 88/100\n",
      "601/601 [==============================] - 22s - loss: 1.1921e-07 - acc: 1.0000 - val_loss: 1.1921e-07 - val_acc: 1.0000\n",
      "Epoch 89/100\n",
      "601/601 [==============================] - 22s - loss: 1.1921e-07 - acc: 1.0000 - val_loss: 1.1921e-07 - val_acc: 1.0000\n",
      "Epoch 90/100\n",
      "601/601 [==============================] - 22s - loss: 1.1921e-07 - acc: 1.0000 - val_loss: 1.1921e-07 - val_acc: 1.0000\n",
      "Epoch 91/100\n",
      "601/601 [==============================] - 22s - loss: 1.1921e-07 - acc: 1.0000 - val_loss: 1.1921e-07 - val_acc: 1.0000\n",
      "Epoch 92/100\n",
      "601/601 [==============================] - 22s - loss: 1.1921e-07 - acc: 1.0000 - val_loss: 1.1921e-07 - val_acc: 1.0000\n",
      "Epoch 93/100\n",
      "601/601 [==============================] - 22s - loss: 1.1921e-07 - acc: 1.0000 - val_loss: 1.1921e-07 - val_acc: 1.0000\n",
      "Epoch 94/100\n",
      "601/601 [==============================] - 22s - loss: 1.1921e-07 - acc: 1.0000 - val_loss: 1.1921e-07 - val_acc: 1.0000\n",
      "Epoch 95/100\n",
      "601/601 [==============================] - 22s - loss: 1.1921e-07 - acc: 1.0000 - val_loss: 1.1921e-07 - val_acc: 1.0000\n",
      "Epoch 96/100\n",
      "601/601 [==============================] - 22s - loss: 1.1921e-07 - acc: 1.0000 - val_loss: 1.1921e-07 - val_acc: 1.0000\n",
      "Epoch 97/100\n",
      "601/601 [==============================] - 22s - loss: 1.1921e-07 - acc: 1.0000 - val_loss: 1.1921e-07 - val_acc: 1.0000\n",
      "Epoch 98/100\n",
      "601/601 [==============================] - 22s - loss: 1.1921e-07 - acc: 1.0000 - val_loss: 1.1921e-07 - val_acc: 1.0000\n",
      "Epoch 99/100\n",
      "601/601 [==============================] - 22s - loss: 1.1921e-07 - acc: 1.0000 - val_loss: 1.1921e-07 - val_acc: 1.0000\n",
      "Epoch 100/100\n",
      "601/601 [==============================] - 22s - loss: 1.1921e-07 - acc: 1.0000 - val_loss: 1.1921e-07 - val_acc: 1.0000\n"
     ]
    }
   ],
   "source": [
    "hist = model.fit(X_train_new, y_train_new, validation_data=(X_val_new,y_val_new),\n",
    "          batch_size=batch_size,nb_epoch = nb_epoch,shuffle=True)"
   ]
  },
  {
   "cell_type": "markdown",
   "metadata": {},
   "source": [
    "### Split the data"
   ]
  },
  {
   "cell_type": "code",
   "execution_count": null,
   "metadata": {},
   "outputs": [],
   "source": [
    "plt.figure(figsize=(30,20))\n",
    "for i in range(0,10):\n",
    "    img = acc_frames[i]\n",
    "    plt.subplot(1,10,i + 1)\n",
    "    plt.imshow(img,cmap='gray')\n",
    "    \n",
    "    img = normal_frames[i]\n",
    "    plt.subplot(2,10,i + 1)\n",
    "    plt.imshow(img,cmap='gray')\n",
    "plt.show()"
   ]
  },
  {
   "cell_type": "markdown",
   "metadata": {},
   "source": [
    "### Train the model"
   ]
  },
  {
   "cell_type": "code",
   "execution_count": null,
   "metadata": {},
   "outputs": [],
   "source": [
    "frame = acc_frames[-1]\n",
    "hsv = cv2.cvtColor(frame, cv2.COLOR_BGR2HSV)\n",
    "value = 1\n",
    "hsv[:,:,2] += value\n",
    "hsv = cv2.cvtColor(frame, cv2.COLOR_HSV2RGB)\n",
    "\n",
    "plt.imshow(hsv)\n",
    "plt.show()"
   ]
  },
  {
   "cell_type": "code",
   "execution_count": null,
   "metadata": {},
   "outputs": [],
   "source": [
    "score"
   ]
  },
  {
   "cell_type": "markdown",
   "metadata": {},
   "source": [
    "### Evaluate the model"
   ]
  },
  {
   "cell_type": "code",
   "execution_count": 30,
   "metadata": {},
   "outputs": [
    {
     "name": "stdout",
     "output_type": "stream",
     "text": [
      "150/151 [============================>.] - ETA: 0sTest score: 0.037050884217\n",
      "Test accuracy: 1.0\n"
     ]
    }
   ],
   "source": [
    "score = model.evaluate(X_val_new, y_val_new, batch_size=batch_size)\n",
    "print('Test score:', score[0])\n",
    "print('Test accuracy:', score[1]) \n"
   ]
  },
  {
   "cell_type": "code",
   "execution_count": 31,
   "metadata": {},
   "outputs": [
    {
     "data": {
      "image/png": "[encoded data removed]",
      "text/plain": [
       "<matplotlib.figure.Figure at 0x7f286424ecf8>"
      ]
     },
     "metadata": {},
     "output_type": "display_data"
    }
   ],
   "source": [
    "train_loss=hist.history['loss']\n",
    "val_loss=hist.history['val_loss']\n",
    "train_acc=hist.history['acc']\n",
    "val_acc=hist.history['val_acc']\n",
    "\n",
    "plt.plot(train_loss)\n",
    "plt.plot(val_loss)\n",
    "plt.plot(train_acc)\n",
    "plt.plot(val_acc)\n",
    "plt.xlabel('num of Epochs')\n",
    "plt.grid(True)\n",
    "plt.legend(['train_loss','val_loss','train_acc', 'val_acc'])\n",
    "plt.style.use(['classic'])\n",
    "plt.show()"
   ]
  },
  {
   "cell_type": "markdown",
   "metadata": {},
   "source": [
    "### Plots the result"
   ]
  },
  {
   "cell_type": "code",
   "execution_count": null,
   "metadata": {},
   "outputs": [],
   "source": [
    "train_loss=hist.history['loss']\n",
    "val_loss=hist.history['val_loss']\n",
    "train_acc=hist.history['acc']\n",
    "val_acc=hist.history['val_acc']\n",
    "xc=range(10)\n",
    "\n",
    "plt.figure(1,figsize=(7,5))\n",
    "plt.plot(xc,train_loss)\n",
    "plt.plot(xc,val_loss)\n",
    "plt.xlabel('num of Epochs')\n",
    "plt.ylabel('loss')\n",
    "plt.title('train_loss vs val_loss')\n",
    "plt.grid(True)\n",
    "plt.legend(['train','val'])\n",
    "print(plt.style.available) # use bmh, classic,ggplot for big pictures\n",
    "plt.style.use(['classic'])\n",
    "\n",
    "plt.figure(2,figsize=(7,5))\n",
    "plt.plot(xc,train_acc)\n",
    "plt.plot(xc,val_acc)\n",
    "plt.xlabel('num of Epochs')\n",
    "plt.ylabel('accuracy')\n",
    "plt.title('train_acc vs val_acc')\n",
    "plt.grid(True)\n",
    "plt.legend(['train','val'],loc=4)\n",
    "#print plt.style.available # use bmh, classic,ggplot for big pictures\n",
    "plt.style.use(['classic'])"
   ]
  },
  {
   "cell_type": "code",
   "execution_count": null,
   "metadata": {},
   "outputs": [],
   "source": []
  }
 ],
 "metadata": {
  "kernelspec": {
   "display_name": "tensorflow",
   "language": "python",
   "name": "tensorflow"
  },
  "language_info": {
   "codemirror_mode": {
    "name": "ipython",
    "version": 3
   },
   "file_extension": ".py",
   "mimetype": "text/x-python",
   "name": "python",
   "nbconvert_exporter": "python",
   "pygments_lexer": "ipython3",
   "version": "3.5.2"
  }
 },
 "nbformat": 4,
 "nbformat_minor": 2
}
