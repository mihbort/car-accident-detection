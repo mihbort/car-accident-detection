{
 "cells": [
  {
   "cell_type": "code",
   "execution_count": 1,
   "metadata": {},
   "outputs": [
    {
     "name": "stderr",
     "output_type": "stream",
     "text": [
      "/home/misha/tensorflow/lib/python3.5/site-packages/skvideo/__init__.py:356: UserWarning: avconv/avprobe not found in path: \n",
      "  warnings.warn(\"avconv/avprobe not found in path: \" + str(path), UserWarning)\n"
     ]
    }
   ],
   "source": [
    "import sys\n",
    "import skvideo.io\n",
    "import skvideo.datasets"
   ]
  },
  {
   "cell_type": "code",
   "execution_count": 2,
   "metadata": {},
   "outputs": [
    {
     "name": "stderr",
     "output_type": "stream",
     "text": [
      "Using TensorFlow backend.\n"
     ]
    }
   ],
   "source": [
    "from keras.preprocessing.image import ImageDataGenerator\n",
    "from keras.models import Sequential\n",
    "from keras.layers.core import Dense, Dropout, Activation, Flatten\n",
    "from keras.layers.convolutional import Convolution3D, MaxPooling3D"
   ]
  },
  {
   "cell_type": "code",
   "execution_count": 3,
   "metadata": {},
   "outputs": [],
   "source": [
    "from keras.optimizers import SGD, RMSprop, Nadam\n",
    "from keras.utils import np_utils, generic_utils"
   ]
  },
  {
   "cell_type": "code",
   "execution_count": 4,
   "metadata": {},
   "outputs": [
    {
     "name": "stderr",
     "output_type": "stream",
     "text": [
      "/home/misha/tensorflow/lib/python3.5/site-packages/sklearn/cross_validation.py:41: DeprecationWarning: This module was deprecated in version 0.18 in favor of the model_selection module into which all the refactored classes and functions are moved. Also note that the interface of the new CV iterators are different from that of this module. This module will be removed in 0.20.\n",
      "  \"This module will be removed in 0.20.\", DeprecationWarning)\n"
     ]
    }
   ],
   "source": [
    "import tensorflow as tf\n",
    "import os\n",
    "import matplotlib\n",
    "import matplotlib.pyplot as plt\n",
    "import numpy as np\n",
    "import cv2\n",
    "from sklearn.cross_validation import train_test_split\n",
    "from sklearn import cross_validation\n",
    "from sklearn import preprocessing"
   ]
  },
  {
   "cell_type": "code",
   "execution_count": 5,
   "metadata": {},
   "outputs": [
    {
     "name": "stdout",
     "output_type": "stream",
     "text": [
      "b'Hello, TensorFlow!'\n"
     ]
    }
   ],
   "source": [
    "hello = tf.constant('Hello, TensorFlow!')\n",
    "sess = tf.Session()\n",
    "print(sess.run(hello))"
   ]
  },
  {
   "cell_type": "markdown",
   "metadata": {},
   "source": [
    "### Image specification + Random"
   ]
  },
  {
   "cell_type": "code",
   "execution_count": 6,
   "metadata": {},
   "outputs": [],
   "source": [
    "img_rows,img_cols,img_depth=120,160,15\n",
    "r_state = 42\n",
    "np.random.seed(r_state)\n",
    "tf.set_random_seed(r_state)"
   ]
  },
  {
   "cell_type": "markdown",
   "metadata": {},
   "source": [
    "### Training data"
   ]
  },
  {
   "cell_type": "code",
   "execution_count": 7,
   "metadata": {},
   "outputs": [
    {
     "name": "stdout",
     "output_type": "stream",
     "text": [
      "(0, 120, 160, 15) (0, 120, 160, 15)\n"
     ]
    }
   ],
   "source": [
    "train_nb, test_nb = 196, 100\n",
    "x_train = np.zeros((0,img_rows,img_cols,img_depth))# variable to store entire dataset\n",
    "x_test = np.zeros((0,img_rows,img_cols,img_depth))\n",
    "print(x_train.shape, x_test.shape)"
   ]
  },
  {
   "cell_type": "code",
   "execution_count": 8,
   "metadata": {},
   "outputs": [
    {
     "name": "stdout",
     "output_type": "stream",
     "text": [
      "[]\n"
     ]
    }
   ],
   "source": [
    "print(x_test)"
   ]
  },
  {
   "cell_type": "code",
   "execution_count": 16,
   "metadata": {},
   "outputs": [],
   "source": [
    "def readFrames(vdata,start,end,width,step): # width of the window and step\n",
    "    x_arr = np.zeros((0,img_rows,img_cols,img_depth))\n",
    "    \n",
    "    frame_number = 0\n",
    "    \n",
    "    uniq_frames_nb = end - start  # + width - (end - start) % width\n",
    "    \n",
    "    uniq_frames_nb = uniq_frames_nb - (uniq_frames_nb - width) % step\n",
    "    \n",
    "    print('uniq frames: ', uniq_frames_nb)\n",
    "    frames = []\n",
    "\n",
    "    for frame in vdata:\n",
    "\n",
    "        if (frame_number >= start and frame_number < start + uniq_frames_nb):\n",
    "            frame = cv2.cvtColor(frame, cv2.COLOR_BGR2GRAY)\n",
    "            res_img = cv2.resize(frame, (img_cols, img_rows), interpolation=cv2.INTER_AREA)\n",
    "            frames.append(res_img)\n",
    "#             print(frame_number, res_img)\n",
    "        if frame_number > start + uniq_frames_nb:\n",
    "            frame_number = 0\n",
    "            break\n",
    "        frame_number += 1\n",
    "        \n",
    "    # sliding window itself\n",
    "#     print(frames)\n",
    "    nb_x = (uniq_frames_nb - width) / step + 1\n",
    "    print('adding',nb_x,'windows')\n",
    "    for i in range(int(nb_x)):\n",
    "        fr_arr = np.zeros((img_depth,img_rows,img_cols))\n",
    "        for j in range(img_depth):\n",
    "            fr_arr[j] = frames[i * step + j]\n",
    "        fr_arr = np.rollaxis(fr_arr,0,3)\n",
    "        fr_arr = np.expand_dims(fr_arr, axis = 0)\n",
    "        x_arr = np.concatenate((x_arr, fr_arr), axis=0) \n",
    "        \n",
    "    return x_arr"
   ]
  },
  {
   "cell_type": "code",
   "execution_count": null,
   "metadata": {},
   "outputs": [],
   "source": [
    "# filename = '/home/misha/Documents/Thesis/Dataset/BNG_white_1'\n",
    "# videodata = skvideo.io.vreader(filename + '.mov')\n",
    "# vid_arr = np.zeros((4,img_rows,img_cols,img_depth))\n",
    "\n",
    "# readFrames(vid_arr,0,videodata,360,375,img_depth,5)\n",
    "\n",
    "# # print(vid_arr)\n",
    "\n",
    "\n"
   ]
  },
  {
   "cell_type": "code",
   "execution_count": null,
   "metadata": {},
   "outputs": [],
   "source": [
    "# visualizing the array\n",
    "# print(vid_arr[3].shape)\n",
    "# vid_to_viz = vid_arr.copy()\n",
    "# vid_to_viz = np.rollaxis(vid_to_viz[3], 2, 0)\n",
    "# print(vid_to_viz.shape)\n",
    "\n",
    "# vid_to_viz = x_train[100].copy()\n",
    "# print(vid_to_viz.shape)\n",
    "# vid_to_viz = np.rollaxis(vid_to_viz, 3, 0)\n",
    "# print(vid_to_viz.shape)\n",
    "# vid_to_viz = np.rollaxis(vid_to_viz[0], 2, 0)\n",
    "# print(vid_to_viz.shape)\n",
    "\n",
    "# _, axes = plt.subplots(ncols=img_depth,figsize=(20,5))\n",
    "# for i in range(img_depth):\n",
    "#     axes[i].imshow(vid_to_viz[i],cmap = 'gray')\n",
    "                   \n",
    "# plt.show()"
   ]
  },
  {
   "cell_type": "code",
   "execution_count": 101,
   "metadata": {},
   "outputs": [
    {
     "name": "stdout",
     "output_type": "stream",
     "text": [
      "(196, 120, 160, 15)\n"
     ]
    }
   ],
   "source": [
    "print(x_train.shape)"
   ]
  },
  {
   "cell_type": "code",
   "execution_count": 22,
   "metadata": {},
   "outputs": [
    {
     "name": "stdout",
     "output_type": "stream",
     "text": [
      "False\n"
     ]
    }
   ],
   "source": [
    "print(np.array_equal(x_train_0[1],x_train_0[3]))"
   ]
  },
  {
   "cell_type": "code",
   "execution_count": null,
   "metadata": {},
   "outputs": [],
   "source": []
  },
  {
   "cell_type": "code",
   "execution_count": null,
   "metadata": {},
   "outputs": [],
   "source": []
  },
  {
   "cell_type": "markdown",
   "metadata": {},
   "source": []
  },
  {
   "cell_type": "code",
   "execution_count": 60,
   "metadata": {},
   "outputs": [
    {
     "name": "stdout",
     "output_type": "stream",
     "text": [
      "(98, 120, 160, 15)\n"
     ]
    }
   ],
   "source": [
    "print(x_train.shape)"
   ]
  },
  {
   "cell_type": "code",
   "execution_count": 59,
   "metadata": {},
   "outputs": [
    {
     "data": {
      "image/png": "[encoded data removed]",
      "text/plain": [
       "<matplotlib.figure.Figure at 0x7face046c9b0>"
      ]
     },
     "metadata": {},
     "output_type": "display_data"
    }
   ],
   "source": [
    "vid_to_viz = x_train[1]\n",
    "# vid_to_viz = np.flip(np.squeeze(X_val_new[5], axis=3),1)\n",
    "vid_to_viz = np.rollaxis(vid_to_viz, 2, 0)\n",
    "_, axes = plt.subplots(ncols=5,nrows=3,figsize=(15,7))\n",
    "for i in range(3):\n",
    "    for j in range(5):\n",
    "        axes[i][j].axis('off')\n",
    "        axes[i][j].set_title(i * 5 + j)\n",
    "        axes[i][j].imshow(vid_to_viz[i * 5 + j],cmap = 'gray')\n",
    "                   \n",
    "plt.show()"
   ]
  },
  {
   "cell_type": "code",
   "execution_count": 13,
   "metadata": {},
   "outputs": [
    {
     "ename": "IndexError",
     "evalue": "index 3 is out of bounds for axis 0 with size 0",
     "output_type": "error",
     "traceback": [
      "\u001b[0;31m---------------------------------------------------------------------------\u001b[0m",
      "\u001b[0;31mIndexError\u001b[0m                                Traceback (most recent call last)",
      "\u001b[0;32m<ipython-input-13-cedfcc25fd2d>\u001b[0m in \u001b[0;36m<module>\u001b[0;34m()\u001b[0m\n\u001b[0;32m----> 1\u001b[0;31m \u001b[0mvid_to_viz\u001b[0m \u001b[0;34m=\u001b[0m \u001b[0mx_train_0\u001b[0m\u001b[0;34m[\u001b[0m\u001b[0;36m3\u001b[0m\u001b[0;34m]\u001b[0m\u001b[0;34m\u001b[0m\u001b[0m\n\u001b[0m\u001b[1;32m      2\u001b[0m \u001b[0;31m# vid_to_viz = np.flip(np.squeeze(X_val_new[5], axis=3),1)\u001b[0m\u001b[0;34m\u001b[0m\u001b[0;34m\u001b[0m\u001b[0m\n\u001b[1;32m      3\u001b[0m \u001b[0mvid_to_viz\u001b[0m \u001b[0;34m=\u001b[0m \u001b[0mnp\u001b[0m\u001b[0;34m.\u001b[0m\u001b[0mrollaxis\u001b[0m\u001b[0;34m(\u001b[0m\u001b[0mvid_to_viz\u001b[0m\u001b[0;34m,\u001b[0m \u001b[0;36m2\u001b[0m\u001b[0;34m,\u001b[0m \u001b[0;36m0\u001b[0m\u001b[0;34m)\u001b[0m\u001b[0;34m\u001b[0m\u001b[0m\n\u001b[1;32m      4\u001b[0m \u001b[0m_\u001b[0m\u001b[0;34m,\u001b[0m \u001b[0maxes\u001b[0m \u001b[0;34m=\u001b[0m \u001b[0mplt\u001b[0m\u001b[0;34m.\u001b[0m\u001b[0msubplots\u001b[0m\u001b[0;34m(\u001b[0m\u001b[0mncols\u001b[0m\u001b[0;34m=\u001b[0m\u001b[0;36m5\u001b[0m\u001b[0;34m,\u001b[0m\u001b[0mnrows\u001b[0m\u001b[0;34m=\u001b[0m\u001b[0;36m3\u001b[0m\u001b[0;34m,\u001b[0m\u001b[0mfigsize\u001b[0m\u001b[0;34m=\u001b[0m\u001b[0;34m(\u001b[0m\u001b[0;36m15\u001b[0m\u001b[0;34m,\u001b[0m\u001b[0;36m7\u001b[0m\u001b[0;34m)\u001b[0m\u001b[0;34m)\u001b[0m\u001b[0;34m\u001b[0m\u001b[0m\n\u001b[1;32m      5\u001b[0m \u001b[0;32mfor\u001b[0m \u001b[0mi\u001b[0m \u001b[0;32min\u001b[0m \u001b[0mrange\u001b[0m\u001b[0;34m(\u001b[0m\u001b[0;36m3\u001b[0m\u001b[0;34m)\u001b[0m\u001b[0;34m:\u001b[0m\u001b[0;34m\u001b[0m\u001b[0m\n",
      "\u001b[0;31mIndexError\u001b[0m: index 3 is out of bounds for axis 0 with size 0"
     ]
    }
   ],
   "source": [
    "vid_to_viz = x_train_0[3]\n",
    "# vid_to_viz = np.flip(np.squeeze(X_val_new[5], axis=3),1)\n",
    "vid_to_viz = np.rollaxis(vid_to_viz, 2, 0)\n",
    "_, axes = plt.subplots(ncols=5,nrows=3,figsize=(15,7))\n",
    "for i in range(3):\n",
    "    for j in range(5):\n",
    "        axes[i][j].axis('off')\n",
    "        axes[i][j].set_title(i * 5 + j)\n",
    "        axes[i][j].imshow(vid_to_viz[i * 5 + j],cmap = 'gray')\n",
    "                   \n",
    "plt.show()"
   ]
  },
  {
   "cell_type": "code",
   "execution_count": 61,
   "metadata": {},
   "outputs": [],
   "source": [
    "x_train = np.zeros((0,img_rows,img_cols,img_depth))"
   ]
  },
  {
   "cell_type": "code",
   "execution_count": 18,
   "metadata": {},
   "outputs": [
    {
     "name": "stdout",
     "output_type": "stream",
     "text": [
      "uniq frames:  25\n",
      "adding 3.0 windows\n",
      "(3, 120, 160, 15)\n"
     ]
    }
   ],
   "source": [
    "filename = '/home/misha/Documents/Thesis/Dataset/BNG_white_1'\n",
    "videodata = skvideo.io.vreader(filename + '.mov')\n",
    "\n",
    "\n",
    "x_train = readFrames(videodata,400,425,img_depth,5) # 400,680\n",
    "print(x_train.shape)"
   ]
  },
  {
   "cell_type": "code",
   "execution_count": 63,
   "metadata": {},
   "outputs": [
    {
     "ename": "TypeError",
     "evalue": "'generator' object is not subscriptable",
     "output_type": "error",
     "traceback": [
      "\u001b[0;31m---------------------------------------------------------------------------\u001b[0m",
      "\u001b[0;31mTypeError\u001b[0m                                 Traceback (most recent call last)",
      "\u001b[0;32m<ipython-input-63-d984d29df10c>\u001b[0m in \u001b[0;36m<module>\u001b[0;34m()\u001b[0m\n\u001b[0;32m----> 1\u001b[0;31m \u001b[0mimg\u001b[0m \u001b[0;34m=\u001b[0m \u001b[0mvideodata\u001b[0m\u001b[0;34m[\u001b[0m\u001b[0;36m1\u001b[0m\u001b[0;34m]\u001b[0m\u001b[0;34m\u001b[0m\u001b[0m\n\u001b[0m\u001b[1;32m      2\u001b[0m \u001b[0mplt\u001b[0m\u001b[0;34m.\u001b[0m\u001b[0mplot\u001b[0m\u001b[0;34m(\u001b[0m\u001b[0mimg\u001b[0m\u001b[0;34m)\u001b[0m\u001b[0;34m\u001b[0m\u001b[0m\n\u001b[1;32m      3\u001b[0m \u001b[0mplt\u001b[0m\u001b[0;34m.\u001b[0m\u001b[0mshow\u001b[0m\u001b[0;34m(\u001b[0m\u001b[0;34m)\u001b[0m\u001b[0;34m\u001b[0m\u001b[0m\n",
      "\u001b[0;31mTypeError\u001b[0m: 'generator' object is not subscriptable"
     ]
    }
   ],
   "source": [
    "img = videodata[1]\n",
    "plt.plot(img)\n",
    "plt.show()"
   ]
  },
  {
   "cell_type": "code",
   "execution_count": 64,
   "metadata": {},
   "outputs": [
    {
     "name": "stdout",
     "output_type": "stream",
     "text": [
      "uniq frames:  225\n",
      "adding 43.0 windows\n",
      "(98, 120, 160, 15)\n"
     ]
    }
   ],
   "source": [
    "filename = '/home/misha/Documents/Thesis/Dataset/BNG_white_1'\n",
    "videodata = skvideo.io.vreader(filename + '.mov')\n",
    "x_train = np.concatenate((x_train_0,readFrames(videodata,6150,6360,img_depth,5)), axis = 0)\n",
    "print(x_train.shape)"
   ]
  },
  {
   "cell_type": "code",
   "execution_count": 65,
   "metadata": {},
   "outputs": [
    {
     "name": "stdout",
     "output_type": "stream",
     "text": [
      "uniq frames:  135\n",
      "adding 25.0 windows\n",
      "(123, 120, 160, 15)\n"
     ]
    }
   ],
   "source": [
    "# class 1\n",
    "filename = '/home/misha/Documents/Thesis/Dataset/BNG_white_1'\n",
    "videodata = skvideo.io.vreader(filename + '.mov')\n",
    "\n",
    "x_train = np.concatenate((x_train,readFrames(videodata,3480,3610,img_depth,5)), axis = 0)\n",
    "print(x_train.shape)"
   ]
  },
  {
   "cell_type": "code",
   "execution_count": 66,
   "metadata": {},
   "outputs": [
    {
     "name": "stdout",
     "output_type": "stream",
     "text": [
      "uniq frames:  45\n",
      "adding 7.0 windows\n",
      "(130, 120, 160, 15)\n"
     ]
    }
   ],
   "source": [
    "x_train = np.concatenate((x_train,readFrames(videodata,3760,3800,img_depth,5)), axis = 0)\n",
    "print(x_train.shape)"
   ]
  },
  {
   "cell_type": "code",
   "execution_count": 67,
   "metadata": {},
   "outputs": [
    {
     "name": "stdout",
     "output_type": "stream",
     "text": [
      "uniq frames:  105\n",
      "adding 19.0 windows\n",
      "(149, 120, 160, 15)\n"
     ]
    }
   ],
   "source": [
    "filename = '/home/misha/Documents/Thesis/Dataset/BNG_white_1'\n",
    "videodata = skvideo.io.vreader(filename + '.mov')\n",
    "x_train = np.concatenate((x_train,readFrames(videodata,3980,4080,img_depth,5)), axis = 0)\n",
    "print(x_train.shape)"
   ]
  },
  {
   "cell_type": "code",
   "execution_count": 68,
   "metadata": {},
   "outputs": [
    {
     "name": "stdout",
     "output_type": "stream",
     "text": [
      "uniq frames:  180\n",
      "adding 34.0 windows\n",
      "(183, 120, 160, 15)\n"
     ]
    }
   ],
   "source": [
    "filename = '/home/misha/Documents/Thesis/Dataset/BNG_white_1'\n",
    "videodata = skvideo.io.vreader(filename + '.mov')\n",
    "x_train = np.concatenate((x_train,readFrames(videodata,4380,4550,img_depth,5)), axis = 0)\n",
    "print(x_train.shape)"
   ]
  },
  {
   "cell_type": "code",
   "execution_count": 69,
   "metadata": {},
   "outputs": [
    {
     "name": "stdout",
     "output_type": "stream",
     "text": [
      "uniq frames:  75\n",
      "adding 13.0 windows\n",
      "(196, 120, 160, 15)\n"
     ]
    }
   ],
   "source": [
    "filename = '/home/misha/Documents/Thesis/Dataset/BNG_white_1'\n",
    "videodata = skvideo.io.vreader(filename + '.mov')\n",
    "x_train = np.concatenate((x_train,readFrames(videodata,6410,6480,img_depth,5)), axis = 0)\n",
    "print(x_train.shape)"
   ]
  },
  {
   "cell_type": "markdown",
   "metadata": {},
   "source": [
    "### Open files"
   ]
  },
  {
   "cell_type": "code",
   "execution_count": null,
   "metadata": {},
   "outputs": [],
   "source": [
    "x_test = "
   ]
  },
  {
   "cell_type": "code",
   "execution_count": 45,
   "metadata": {},
   "outputs": [
    {
     "name": "stdout",
     "output_type": "stream",
     "text": [
      "uniq frames:  105\n",
      "adding 10.0 windows\n"
     ]
    }
   ],
   "source": [
    "filename = '/home/misha/Documents/Thesis/Dataset/race_night'\n",
    "videodata = skvideo.io.vreader(filename + '.mov')\n",
    "x_test = readFrames(videodata,563,663,img_depth,10)"
   ]
  },
  {
   "cell_type": "code",
   "execution_count": 46,
   "metadata": {},
   "outputs": [
    {
     "name": "stdout",
     "output_type": "stream",
     "text": [
      "uniq frames:  105\n",
      "adding 10.0 windows\n"
     ]
    }
   ],
   "source": [
    "x_test = np.concatenate((x_test,readFrames(videodata,1600,1700,img_depth,10)), axis = 0)"
   ]
  },
  {
   "cell_type": "code",
   "execution_count": 47,
   "metadata": {},
   "outputs": [
    {
     "name": "stdout",
     "output_type": "stream",
     "text": [
      "uniq frames:  105\n",
      "adding 10.0 windows\n"
     ]
    }
   ],
   "source": [
    "x_test = np.concatenate((x_test,readFrames(videodata,950,1050,img_depth,10)), axis = 0)"
   ]
  },
  {
   "cell_type": "code",
   "execution_count": 52,
   "metadata": {},
   "outputs": [
    {
     "name": "stdout",
     "output_type": "stream",
     "text": [
      "uniq frames:  105\n",
      "adding 10.0 windows\n"
     ]
    }
   ],
   "source": [
    "filename = '/home/misha/Documents/Thesis/Dataset/race_night'\n",
    "videodata = skvideo.io.vreader(filename + '.mov')\n",
    "x_test = np.concatenate((x_test,readFrames(videodata,3760,3860,img_depth,10)), axis = 0)"
   ]
  },
  {
   "cell_type": "code",
   "execution_count": 53,
   "metadata": {},
   "outputs": [
    {
     "data": {
      "text/plain": [
       "(40, 120, 160, 15)"
      ]
     },
     "execution_count": 53,
     "metadata": {},
     "output_type": "execute_result"
    }
   ],
   "source": [
    "x_test.shape"
   ]
  },
  {
   "cell_type": "code",
   "execution_count": 55,
   "metadata": {},
   "outputs": [
    {
     "name": "stdout",
     "output_type": "stream",
     "text": [
      "(40,)\n"
     ]
    }
   ],
   "source": [
    "y_test = np.ones((x_test.shape[0],),dtype=int)\n",
    "y_test[0:20] = 0\n",
    "y_test[20:] = 1\n",
    "print(y_test.shape)"
   ]
  },
  {
   "cell_type": "code",
   "execution_count": 56,
   "metadata": {},
   "outputs": [
    {
     "name": "stdout",
     "output_type": "stream",
     "text": [
      "(40, 2)\n"
     ]
    }
   ],
   "source": [
    "y_test = np_utils.to_categorical(y_test, nb_classes)\n",
    "print(y_test.shape)"
   ]
  },
  {
   "cell_type": "code",
   "execution_count": 57,
   "metadata": {},
   "outputs": [
    {
     "name": "stdout",
     "output_type": "stream",
     "text": [
      "(40, 120, 160, 15, 1)\n"
     ]
    }
   ],
   "source": [
    "x_test = np.expand_dims(x_test, axis=4)\n",
    "print(x_test.shape)"
   ]
  },
  {
   "cell_type": "code",
   "execution_count": 58,
   "metadata": {},
   "outputs": [],
   "source": [
    "from sklearn.utils import shuffle\n",
    "x_test, y_test = shuffle(x_test,y_test, random_state = r_state)"
   ]
  },
  {
   "cell_type": "markdown",
   "metadata": {},
   "source": [
    "### Reading accident class training"
   ]
  },
  {
   "cell_type": "markdown",
   "metadata": {
    "collapsed": true
   },
   "source": [
    "##### Image resize"
   ]
  },
  {
   "cell_type": "markdown",
   "metadata": {},
   "source": [
    "### Reading all frames classes (takes long time)"
   ]
  },
  {
   "cell_type": "markdown",
   "metadata": {},
   "source": [
    "### CNN Training parameters"
   ]
  },
  {
   "cell_type": "code",
   "execution_count": 17,
   "metadata": {},
   "outputs": [
    {
     "name": "stdout",
     "output_type": "stream",
     "text": [
      "(0, 120, 160, 15)\n"
     ]
    }
   ],
   "source": [
    "print(x_train.shape)"
   ]
  },
  {
   "cell_type": "code",
   "execution_count": null,
   "metadata": {},
   "outputs": [],
   "source": [
    "\n",
    "x_train = np.expand_dims(x_train, axis=4)\n",
    "print(x_train.shape)"
   ]
  },
  {
   "cell_type": "markdown",
   "metadata": {},
   "source": [
    "##### Assign label to each class"
   ]
  },
  {
   "cell_type": "code",
   "execution_count": 70,
   "metadata": {},
   "outputs": [
    {
     "name": "stdout",
     "output_type": "stream",
     "text": [
      "(196,)\n"
     ]
    }
   ],
   "source": [
    "y_train = np.ones((x_train.shape[0],),dtype=int)\n",
    "y_train[0:98] = 0\n",
    "y_train[98:] = 1\n",
    "print(y_train.shape)"
   ]
  },
  {
   "cell_type": "markdown",
   "metadata": {},
   "source": [
    "##### CNN training parameters"
   ]
  },
  {
   "cell_type": "code",
   "execution_count": 91,
   "metadata": {},
   "outputs": [],
   "source": [
    "batch_size = 8\n",
    "nb_classes = 2 \n",
    "nb_epoch = 5\n"
   ]
  },
  {
   "cell_type": "markdown",
   "metadata": {},
   "source": [
    "##### convert class vectors to binary class matrices"
   ]
  },
  {
   "cell_type": "code",
   "execution_count": 71,
   "metadata": {},
   "outputs": [
    {
     "name": "stdout",
     "output_type": "stream",
     "text": [
      "(196, 2)\n"
     ]
    }
   ],
   "source": [
    "y_train = np_utils.to_categorical(y_train, nb_classes)\n",
    "print(y_train.shape)"
   ]
  },
  {
   "cell_type": "code",
   "execution_count": 73,
   "metadata": {},
   "outputs": [
    {
     "name": "stdout",
     "output_type": "stream",
     "text": [
      "(196, 120, 160, 15, 1)\n"
     ]
    }
   ],
   "source": [
    "# shuffle train data\n",
    "x_train, y_train = shuffle(x_train,y_train, random_state = r_state)\n",
    "x_train = np.expand_dims(x_train, axis=4)\n",
    "print(x_train.shape)"
   ]
  },
  {
   "cell_type": "markdown",
   "metadata": {},
   "source": [
    "##### number of convolutional filters to use at each layer"
   ]
  },
  {
   "cell_type": "code",
   "execution_count": 74,
   "metadata": {},
   "outputs": [],
   "source": [
    "nb_filters = [32, 32]"
   ]
  },
  {
   "cell_type": "markdown",
   "metadata": {},
   "source": [
    "##### level of pooling to perform at each layer (POOL x POOL)"
   ]
  },
  {
   "cell_type": "code",
   "execution_count": 75,
   "metadata": {},
   "outputs": [],
   "source": [
    "nb_pool = [2, 2]"
   ]
  },
  {
   "cell_type": "markdown",
   "metadata": {},
   "source": [
    "##### Level of convolution to perform at each layer (CONV x CONV)"
   ]
  },
  {
   "cell_type": "code",
   "execution_count": 76,
   "metadata": {},
   "outputs": [],
   "source": [
    "nb_conv = [3,3]"
   ]
  },
  {
   "cell_type": "markdown",
   "metadata": {},
   "source": [
    "### Pre-processing"
   ]
  },
  {
   "cell_type": "code",
   "execution_count": 77,
   "metadata": {},
   "outputs": [],
   "source": [
    "x_train = x_train.astype('float32')\n",
    "\n",
    "# train_set -= np.mean(train_set)\n",
    "\n",
    "x_train /=np.max(x_train)"
   ]
  },
  {
   "cell_type": "code",
   "execution_count": null,
   "metadata": {},
   "outputs": [],
   "source": [
    "print(img_rows, img_cols, img_depth)"
   ]
  },
  {
   "cell_type": "code",
   "execution_count": 78,
   "metadata": {},
   "outputs": [],
   "source": [
    "x_test = x_test.astype('float32')\n",
    "x_test /= np.max(x_test)"
   ]
  },
  {
   "cell_type": "markdown",
   "metadata": {},
   "source": [
    "### Define model"
   ]
  },
  {
   "cell_type": "code",
   "execution_count": 79,
   "metadata": {},
   "outputs": [
    {
     "name": "stderr",
     "output_type": "stream",
     "text": [
      "/usr/local/lib/python3.5/dist-packages/ipykernel_launcher.py:26: UserWarning: Update your `Dense` call to the Keras 2 API: `Dense(128, activation=\"relu\", kernel_initializer=\"normal\")`\n",
      "/usr/local/lib/python3.5/dist-packages/ipykernel_launcher.py:27: UserWarning: Update your `Dense` call to the Keras 2 API: `Dense(256, activation=\"relu\", kernel_initializer=\"normal\")`\n",
      "/usr/local/lib/python3.5/dist-packages/ipykernel_launcher.py:31: UserWarning: Update your `Dense` call to the Keras 2 API: `Dense(2, kernel_initializer=\"normal\")`\n"
     ]
    }
   ],
   "source": [
    "model = Sequential()\n",
    "model.add(Convolution3D(16, (4, 4, 1),\n",
    "input_shape=(img_rows, img_cols, img_depth, 1), activation='relu'))\n",
    "\n",
    "# model.add(Convolution3D(16, (3, 3, 2), activation='relu'))\n",
    "\n",
    "model.add(MaxPooling3D(pool_size=(nb_pool[0], nb_pool[0], nb_pool[0])))\n",
    "model.add(Dropout(0.2))\n",
    "\n",
    "model.add(Convolution3D(32, (4, 4, 4), activation='relu'))\n",
    "\n",
    "model.add(MaxPooling3D(pool_size=(2, 2, 2)))\n",
    "model.add(Dropout(0.2))\n",
    "\n",
    "model.add(Convolution3D(64, (3, 3, 2), activation='relu'))\n",
    "model.add(Dropout(0.2))\n",
    "\n",
    "# model.add(Convolution3D(128, (1, 1, 1), activation='relu'))\n",
    "\n",
    "model.add(MaxPooling3D(pool_size=(2, 2, 1)))\n",
    "\n",
    "model.add(Dropout(0.2))\n",
    "\n",
    "model.add(Flatten())\n",
    "\n",
    "model.add(Dense(128, init='normal', activation='relu'))\n",
    "model.add(Dense(256, init='normal', activation='relu'))\n",
    "\n",
    "model.add(Dropout(0.2))\n",
    "\n",
    "model.add(Dense(nb_classes,init='normal'))\n",
    "\n",
    "model.add(Activation('softmax'))\n",
    "\n",
    "# model.optimizer.lr.assign(0.1)\n",
    "\n",
    "model.compile(loss='categorical_crossentropy', metrics=['accuracy'], optimizer=Nadam(lr=0.001))\n"
   ]
  },
  {
   "cell_type": "code",
   "execution_count": 80,
   "metadata": {},
   "outputs": [
    {
     "name": "stdout",
     "output_type": "stream",
     "text": [
      "_________________________________________________________________\n",
      "Layer (type)                 Output Shape              Param #   \n",
      "=================================================================\n",
      "conv3d_1 (Conv3D)            (None, 117, 157, 15, 16)  272       \n",
      "_________________________________________________________________\n",
      "max_pooling3d_1 (MaxPooling3 (None, 58, 78, 7, 16)     0         \n",
      "_________________________________________________________________\n",
      "dropout_1 (Dropout)          (None, 58, 78, 7, 16)     0         \n",
      "_________________________________________________________________\n",
      "conv3d_2 (Conv3D)            (None, 55, 75, 4, 32)     32800     \n",
      "_________________________________________________________________\n",
      "max_pooling3d_2 (MaxPooling3 (None, 27, 37, 2, 32)     0         \n",
      "_________________________________________________________________\n",
      "dropout_2 (Dropout)          (None, 27, 37, 2, 32)     0         \n",
      "_________________________________________________________________\n",
      "conv3d_3 (Conv3D)            (None, 25, 35, 1, 64)     36928     \n",
      "_________________________________________________________________\n",
      "dropout_3 (Dropout)          (None, 25, 35, 1, 64)     0         \n",
      "_________________________________________________________________\n",
      "max_pooling3d_3 (MaxPooling3 (None, 12, 17, 1, 64)     0         \n",
      "_________________________________________________________________\n",
      "dropout_4 (Dropout)          (None, 12, 17, 1, 64)     0         \n",
      "_________________________________________________________________\n",
      "flatten_1 (Flatten)          (None, 13056)             0         \n",
      "_________________________________________________________________\n",
      "dense_1 (Dense)              (None, 128)               1671296   \n",
      "_________________________________________________________________\n",
      "dense_2 (Dense)              (None, 256)               33024     \n",
      "_________________________________________________________________\n",
      "dropout_5 (Dropout)          (None, 256)               0         \n",
      "_________________________________________________________________\n",
      "dense_3 (Dense)              (None, 2)                 514       \n",
      "_________________________________________________________________\n",
      "activation_1 (Activation)    (None, 2)                 0         \n",
      "=================================================================\n",
      "Total params: 1,774,834\n",
      "Trainable params: 1,774,834\n",
      "Non-trainable params: 0\n",
      "_________________________________________________________________\n"
     ]
    }
   ],
   "source": [
    "model.summary()"
   ]
  },
  {
   "cell_type": "code",
   "execution_count": 90,
   "metadata": {},
   "outputs": [],
   "source": [
    "x_train = np.flip(x_train, 2)"
   ]
  },
  {
   "cell_type": "code",
   "execution_count": null,
   "metadata": {},
   "outputs": [],
   "source": []
  },
  {
   "cell_type": "code",
   "execution_count": null,
   "metadata": {},
   "outputs": [],
   "source": []
  },
  {
   "cell_type": "code",
   "execution_count": 116,
   "metadata": {},
   "outputs": [],
   "source": [
    "# Split the data\n",
    "X_train_new, X_val_new, y_train_new,y_val_new =  train_test_split(x_train, y_train, test_size=0.2, random_state=r_state)"
   ]
  },
  {
   "cell_type": "code",
   "execution_count": 118,
   "metadata": {},
   "outputs": [
    {
     "name": "stdout",
     "output_type": "stream",
     "text": [
      "(156, 120, 160, 15, 1)\n",
      "(40, 120, 160, 15, 1)\n"
     ]
    }
   ],
   "source": [
    "X_train_new = np.expand_dims(X_train_new, axis=4)\n",
    "print(X_train_new.shape)\n",
    "\n",
    "X_val_new = np.expand_dims(X_val_new, axis=4)\n",
    "print(X_val_new.shape)"
   ]
  },
  {
   "cell_type": "markdown",
   "metadata": {},
   "source": [
    "#### Training"
   ]
  },
  {
   "cell_type": "code",
   "execution_count": 92,
   "metadata": {
    "scrolled": true
   },
   "outputs": [
    {
     "name": "stdout",
     "output_type": "stream",
     "text": [
      "Train on 196 samples, validate on 40 samples\n",
      "Epoch 1/5\n",
      "196/196 [==============================] - 3s - loss: 0.5758 - acc: 0.9643 - val_loss: 4.0889 - val_acc: 0.5000\n",
      "Epoch 2/5\n",
      "196/196 [==============================] - 2s - loss: 0.5757 - acc: 0.9643 - val_loss: 4.3529 - val_acc: 0.5000\n",
      "Epoch 3/5\n",
      "196/196 [==============================] - 2s - loss: 0.5757 - acc: 0.9643 - val_loss: 4.8139 - val_acc: 0.5000\n",
      "Epoch 4/5\n",
      "196/196 [==============================] - 2s - loss: 0.5757 - acc: 0.9643 - val_loss: 4.9891 - val_acc: 0.5000\n",
      "Epoch 5/5\n",
      "196/196 [==============================] - 2s - loss: 0.5757 - acc: 0.9643 - val_loss: 5.2983 - val_acc: 0.5000\n"
     ]
    }
   ],
   "source": [
    "hist = model.fit(x_train, y_train, validation_data=(x_test,y_test),\n",
    "          batch_size=batch_size, epochs=nb_epoch, shuffle=True)"
   ]
  },
  {
   "cell_type": "markdown",
   "metadata": {},
   "source": [
    "### Split the data"
   ]
  },
  {
   "cell_type": "markdown",
   "metadata": {},
   "source": [
    "### Train the model"
   ]
  },
  {
   "cell_type": "markdown",
   "metadata": {},
   "source": [
    "### Evaluate the model"
   ]
  },
  {
   "cell_type": "code",
   "execution_count": 134,
   "metadata": {},
   "outputs": [],
   "source": [
    "X_val_new = np.flip(X_val_new, 2)"
   ]
  },
  {
   "cell_type": "code",
   "execution_count": null,
   "metadata": {},
   "outputs": [],
   "source": [
    "X_val_new = np."
   ]
  },
  {
   "cell_type": "code",
   "execution_count": 94,
   "metadata": {},
   "outputs": [
    {
     "name": "stdout",
     "output_type": "stream",
     "text": [
      "32/40 [=======================>......] - ETA: 0sTest score: 5.29828157425\n",
      "Test accuracy: 0.5\n"
     ]
    }
   ],
   "source": [
    "score = model.evaluate(x_test, y_test, batch_size=batch_size)\n",
    "print('Test score:', score[0])\n",
    "print('Test accuracy:', score[1]) \n"
   ]
  },
  {
   "cell_type": "code",
   "execution_count": 93,
   "metadata": {},
   "outputs": [
    {
     "data": {
      "image/png": "[encoded data removed]",
      "text/plain": [
       "<matplotlib.figure.Figure at 0x7fac9c7790f0>"
      ]
     },
     "metadata": {},
     "output_type": "display_data"
    }
   ],
   "source": [
    "train_loss=hist.history['loss']\n",
    "val_loss=hist.history['val_loss']\n",
    "train_acc=hist.history['acc']\n",
    "val_acc=hist.history['val_acc']\n",
    "\n",
    "plt.plot(train_loss)\n",
    "plt.plot(val_loss)\n",
    "plt.plot(train_acc)\n",
    "plt.plot(val_acc)\n",
    "plt.xlabel('num of Epochs')\n",
    "plt.grid(True)\n",
    "plt.legend(['train_loss','val_loss','train_acc', 'val_acc'])\n",
    "\n",
    "plt.show()"
   ]
  },
  {
   "cell_type": "markdown",
   "metadata": {},
   "source": [
    "### Plots the result"
   ]
  },
  {
   "cell_type": "code",
   "execution_count": null,
   "metadata": {},
   "outputs": [],
   "source": [
    "# train_loss=hist.history['loss']\n",
    "# val_loss=hist.history['val_loss']\n",
    "# train_acc=hist.history['acc']\n",
    "# val_acc=hist.history['val_acc']\n",
    "# xc=range(10)\n",
    "\n",
    "# plt.figure(1,figsize=(7,5))\n",
    "# plt.plot(xc,train_loss)\n",
    "# plt.plot(xc,val_loss)\n",
    "# plt.xlabel('num of Epochs')\n",
    "# plt.ylabel('loss')\n",
    "# plt.title('train_loss vs val_loss')\n",
    "# plt.grid(True)\n",
    "# plt.legend(['train','val'])\n",
    "# print(plt.style.available) # use bmh, classic,ggplot for big pictures\n",
    "# plt.style.use(['classic'])\n",
    "\n",
    "# plt.figure(2,figsize=(7,5))\n",
    "# plt.plot(xc,train_acc)\n",
    "# plt.plot(xc,val_acc)\n",
    "# plt.xlabel('num of Epochs')\n",
    "# plt.ylabel('accuracy')\n",
    "# plt.title('train_acc vs val_acc')\n",
    "# plt.grid(True)\n",
    "# plt.legend(['train','val'],loc=4)\n",
    "# #print plt.style.available # use bmh, classic,ggplot for big pictures\n",
    "# plt.style.use(['classic'])"
   ]
  },
  {
   "cell_type": "code",
   "execution_count": null,
   "metadata": {},
   "outputs": [],
   "source": []
  }
 ],
 "metadata": {
  "kernelspec": {
   "display_name": "tensorflow",
   "language": "python",
   "name": "tensorflow"
  },
  "language_info": {
   "codemirror_mode": {
    "name": "ipython",
    "version": 3
   },
   "file_extension": ".py",
   "mimetype": "text/x-python",
   "name": "python",
   "nbconvert_exporter": "python",
   "pygments_lexer": "ipython3",
   "version": "3.5.2"
  }
 },
 "nbformat": 4,
 "nbformat_minor": 2
}
